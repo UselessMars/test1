{
 "cells": [
  {
   "cell_type": "code",
   "execution_count": 1,
   "id": "71daaf2b",
   "metadata": {},
   "outputs": [],
   "source": [
    "import easyocr"
   ]
  },
  {
   "cell_type": "code",
   "execution_count": 2,
   "id": "d17f8aed",
   "metadata": {},
   "outputs": [
    {
     "name": "stderr",
     "output_type": "stream",
     "text": [
      "CUDA not available - defaulting to CPU. Note: This module is much faster with a GPU.\n"
     ]
    },
    {
     "data": {
      "text/plain": [
       "['€ Ии € к 4 Я',\n",
       " 'Ф Е4 ₽ ₽ А ц И %',\n",
       " 'мO УФМС РОССИИ ПО МУРМАНСКОЙ ОБЛАСТИ',\n",
       " 'В ГОРОДЕ МОНЧЕГОРСК 2008',\n",
       " '123 005',\n",
       " '7/',\n",
       " 'ё',\n",
       " 'ХАЛАБУДИНА',\n",
       " 'ЮЛИЯ',\n",
       " 'АЛЕКСЕЕВНА 10 1988',\n",
       " '8',\n",
       " 'МОНЧЕГОРСК',\n",
       " 'ё']"
      ]
     },
     "execution_count": 2,
     "metadata": {},
     "output_type": "execute_result"
    }
   ],
   "source": [
    "reader= easyocr.Reader(['ru','en'],gpu=True)\n",
    "result= reader.readtext('DataForOCR/1.jpeg',detail=0,paragraph=True)\n",
    "result"
   ]
  },
  {
   "cell_type": "code",
   "execution_count": 3,
   "id": "9995090c",
   "metadata": {},
   "outputs": [],
   "source": [
    "import pytesseract\n",
    "import cv2\n",
    "pytesseract.pytesseract.tesseract_cmd = r'C:\\Program Files\\Tesseract-OCR'"
   ]
  },
  {
   "cell_type": "code",
   "execution_count": null,
   "id": "214bbf35",
   "metadata": {},
   "outputs": [],
   "source": [
    "img=cv2.imread('DataForOCR/1.jpeg')\n",
    "text=pytesseract.image_to_string(img)"
   ]
  },
  {
   "cell_type": "code",
   "execution_count": null,
   "id": "c703e4bf",
   "metadata": {},
   "outputs": [],
   "source": []
  },
  {
   "cell_type": "code",
   "execution_count": null,
   "id": "04f87b10",
   "metadata": {},
   "outputs": [],
   "source": []
  }
 ],
 "metadata": {
  "kernelspec": {
   "display_name": "Python 3 (ipykernel)",
   "language": "python",
   "name": "python3"
  },
  "language_info": {
   "codemirror_mode": {
    "name": "ipython",
    "version": 3
   },
   "file_extension": ".py",
   "mimetype": "text/x-python",
   "name": "python",
   "nbconvert_exporter": "python",
   "pygments_lexer": "ipython3",
   "version": "3.9.13"
  }
 },
 "nbformat": 4,
 "nbformat_minor": 5
}
